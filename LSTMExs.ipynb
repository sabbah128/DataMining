{
  "nbformat": 4,
  "nbformat_minor": 0,
  "metadata": {
    "colab": {
      "name": "LSTMExs.ipynb",
      "provenance": [],
      "collapsed_sections": [],
      "toc_visible": true
    },
    "kernelspec": {
      "name": "python3",
      "display_name": "Python 3"
    },
    "language_info": {
      "name": "python"
    }
  },
  "cells": [
    {
      "cell_type": "markdown",
      "metadata": {
        "id": "epZmgmffbwdn"
      },
      "source": [
        "# H.KianAra"
      ]
    },
    {
      "cell_type": "markdown",
      "metadata": {
        "id": "bKjMf_itL2GQ"
      },
      "source": [
        "# ورود کتابخانه ها"
      ]
    },
    {
      "cell_type": "code",
      "metadata": {
        "id": "Dpo61GsXKrhq"
      },
      "source": [
        "import numpy as np\n",
        "from numpy import array\n",
        "from keras.models import Sequential\n",
        "from keras.layers import Dense, LSTM, Dropout\n",
        "import pandas as pd\n",
        "import matplotlib.pyplot as plt\n",
        "from sklearn.preprocessing import StandardScaler"
      ],
      "execution_count": null,
      "outputs": []
    },
    {
      "cell_type": "markdown",
      "metadata": {
        "id": "S3LIBvpxMEOb"
      },
      "source": [
        "# ورود داده ها"
      ]
    },
    {
      "cell_type": "code",
      "metadata": {
        "colab": {
          "base_uri": "https://localhost:8080/",
          "height": 419
        },
        "id": "SgDZwIDcL1bK",
        "outputId": "d3b09ae3-c770-454c-addb-9c7608ebdfe5"
      },
      "source": [
        "df = pd.read_csv('/content/drive/MyDrive/DataSets/HaKeshti.csv')\n",
        "df"
      ],
      "execution_count": null,
      "outputs": [
        {
          "output_type": "execute_result",
          "data": {
            "text/html": [
              "<div>\n",
              "<style scoped>\n",
              "    .dataframe tbody tr th:only-of-type {\n",
              "        vertical-align: middle;\n",
              "    }\n",
              "\n",
              "    .dataframe tbody tr th {\n",
              "        vertical-align: top;\n",
              "    }\n",
              "\n",
              "    .dataframe thead th {\n",
              "        text-align: right;\n",
              "    }\n",
              "</style>\n",
              "<table border=\"1\" class=\"dataframe\">\n",
              "  <thead>\n",
              "    <tr style=\"text-align: right;\">\n",
              "      <th></th>\n",
              "      <th>OPEN</th>\n",
              "      <th>CLOSE</th>\n",
              "      <th>HIGHT</th>\n",
              "      <th>LOW</th>\n",
              "      <th>VOL</th>\n",
              "      <th>CHANGE</th>\n",
              "    </tr>\n",
              "  </thead>\n",
              "  <tbody>\n",
              "    <tr>\n",
              "      <th>0</th>\n",
              "      <td>4107</td>\n",
              "      <td>4312</td>\n",
              "      <td>4312</td>\n",
              "      <td>4312</td>\n",
              "      <td>68196719</td>\n",
              "      <td>0.05</td>\n",
              "    </tr>\n",
              "    <tr>\n",
              "      <th>1</th>\n",
              "      <td>4312</td>\n",
              "      <td>4527</td>\n",
              "      <td>4527</td>\n",
              "      <td>4527</td>\n",
              "      <td>73819075</td>\n",
              "      <td>0.05</td>\n",
              "    </tr>\n",
              "    <tr>\n",
              "      <th>2</th>\n",
              "      <td>4527</td>\n",
              "      <td>4753</td>\n",
              "      <td>4753</td>\n",
              "      <td>4753</td>\n",
              "      <td>6902714</td>\n",
              "      <td>0.05</td>\n",
              "    </tr>\n",
              "    <tr>\n",
              "      <th>3</th>\n",
              "      <td>4753</td>\n",
              "      <td>5059</td>\n",
              "      <td>5230</td>\n",
              "      <td>4967</td>\n",
              "      <td>114149259</td>\n",
              "      <td>0.06</td>\n",
              "    </tr>\n",
              "    <tr>\n",
              "      <th>4</th>\n",
              "      <td>5059</td>\n",
              "      <td>5279</td>\n",
              "      <td>5290</td>\n",
              "      <td>5211</td>\n",
              "      <td>6174928</td>\n",
              "      <td>0.04</td>\n",
              "    </tr>\n",
              "    <tr>\n",
              "      <th>...</th>\n",
              "      <td>...</td>\n",
              "      <td>...</td>\n",
              "      <td>...</td>\n",
              "      <td>...</td>\n",
              "      <td>...</td>\n",
              "      <td>...</td>\n",
              "    </tr>\n",
              "    <tr>\n",
              "      <th>385</th>\n",
              "      <td>26741</td>\n",
              "      <td>28078</td>\n",
              "      <td>28078</td>\n",
              "      <td>28078</td>\n",
              "      <td>3916512</td>\n",
              "      <td>0.05</td>\n",
              "    </tr>\n",
              "    <tr>\n",
              "      <th>386</th>\n",
              "      <td>28078</td>\n",
              "      <td>29481</td>\n",
              "      <td>29481</td>\n",
              "      <td>29481</td>\n",
              "      <td>14434093</td>\n",
              "      <td>0.05</td>\n",
              "    </tr>\n",
              "    <tr>\n",
              "      <th>387</th>\n",
              "      <td>29481</td>\n",
              "      <td>30581</td>\n",
              "      <td>30955</td>\n",
              "      <td>28115</td>\n",
              "      <td>80363144</td>\n",
              "      <td>0.04</td>\n",
              "    </tr>\n",
              "    <tr>\n",
              "      <th>388</th>\n",
              "      <td>23492</td>\n",
              "      <td>27403</td>\n",
              "      <td>27804</td>\n",
              "      <td>26480</td>\n",
              "      <td>37640401</td>\n",
              "      <td>0.17</td>\n",
              "    </tr>\n",
              "    <tr>\n",
              "      <th>389</th>\n",
              "      <td>27403</td>\n",
              "      <td>27150</td>\n",
              "      <td>28300</td>\n",
              "      <td>26035</td>\n",
              "      <td>45415329</td>\n",
              "      <td>-0.01</td>\n",
              "    </tr>\n",
              "  </tbody>\n",
              "</table>\n",
              "<p>390 rows × 6 columns</p>\n",
              "</div>"
            ],
            "text/plain": [
              "      OPEN  CLOSE  HIGHT    LOW        VOL  CHANGE\n",
              "0     4107   4312   4312   4312   68196719    0.05\n",
              "1     4312   4527   4527   4527   73819075    0.05\n",
              "2     4527   4753   4753   4753    6902714    0.05\n",
              "3     4753   5059   5230   4967  114149259    0.06\n",
              "4     5059   5279   5290   5211    6174928    0.04\n",
              "..     ...    ...    ...    ...        ...     ...\n",
              "385  26741  28078  28078  28078    3916512    0.05\n",
              "386  28078  29481  29481  29481   14434093    0.05\n",
              "387  29481  30581  30955  28115   80363144    0.04\n",
              "388  23492  27403  27804  26480   37640401    0.17\n",
              "389  27403  27150  28300  26035   45415329   -0.01\n",
              "\n",
              "[390 rows x 6 columns]"
            ]
          },
          "metadata": {
            "tags": []
          },
          "execution_count": 4
        }
      ]
    },
    {
      "cell_type": "markdown",
      "metadata": {
        "id": "sP9AT_uoQWeN"
      },
      "source": [
        "# نمودار قیمت باز شدن سهم"
      ]
    },
    {
      "cell_type": "code",
      "metadata": {
        "colab": {
          "base_uri": "https://localhost:8080/",
          "height": 282
        },
        "id": "o2PVWN4ZPgN6",
        "outputId": "575af672-9e68-477c-f64c-8312df61736c"
      },
      "source": [
        "df['OPEN'].plot.line()"
      ],
      "execution_count": null,
      "outputs": [
        {
          "output_type": "execute_result",
          "data": {
            "text/plain": [
              "<matplotlib.axes._subplots.AxesSubplot at 0x7fc0aac72ad0>"
            ]
          },
          "metadata": {
            "tags": []
          },
          "execution_count": 5
        },
        {
          "output_type": "display_data",
          "data": {
            "image/png": "[encoded data removed]",
            "text/plain": [
              "<Figure size 432x288 with 1 Axes>"
            ]
          },
          "metadata": {
            "tags": [],
            "needs_background": "light"
          }
        }
      ]
    },
    {
      "cell_type": "markdown",
      "metadata": {
        "id": "DheC2nUkRVsf"
      },
      "source": [
        "# استاندارد سازی"
      ]
    },
    {
      "cell_type": "code",
      "metadata": {
        "id": "UyyCFzQCRWl4"
      },
      "source": [
        "df_train = df[:370]\n",
        "df_test = df[370:]\n",
        "\n",
        "df_train_scaled = StandardScaler().fit_transform(df_train)\n",
        "df_test_scaled = StandardScaler().fit_transform(df_test)"
      ],
      "execution_count": null,
      "outputs": []
    },
    {
      "cell_type": "markdown",
      "metadata": {
        "id": "cASmB14OSLxa"
      },
      "source": [
        "# makes time serize "
      ]
    },
    {
      "cell_type": "code",
      "metadata": {
        "colab": {
          "base_uri": "https://localhost:8080/"
        },
        "id": "dEQKeHM9YeZ3",
        "outputId": "36c1ca47-fd03-424e-9e36-73ac8b385134"
      },
      "source": [
        "X = []\n",
        "y = []\n",
        "n_steps = 6\n",
        "n_future = 1\n",
        "\n",
        "for i in range (n_steps, len(df_train_scaled) - n_future + 1):\n",
        "  X.append(df_train_scaled[i - n_steps:i])\n",
        "  y.append(df_train_scaled[i + n_future - 1:i + n_future, 0])\n",
        "\n",
        "X, y = array(X), array(y)\n",
        "print('X shape : ', X.shape)\n",
        "print('y shape : ', y.shape)"
      ],
      "execution_count": null,
      "outputs": [
        {
          "output_type": "stream",
          "text": [
            "X shape :  (364, 6, 6)\n",
            "y shape :  (364, 1)\n"
          ],
          "name": "stdout"
        }
      ]
    },
    {
      "cell_type": "markdown",
      "metadata": {
        "id": "6vhChhpYb7z5"
      },
      "source": [
        "# LSTM Model"
      ]
    },
    {
      "cell_type": "code",
      "metadata": {
        "id": "7fGn3svBbu3b"
      },
      "source": [
        "model = Sequential()\n",
        "model.add(LSTM(64, activation='relu', input_shape=(X.shape[1], X.shape[2]), return_sequences=True))\n",
        "model.add(LSTM(32, activation='relu', return_sequences=False))\n",
        "model.add(Dropout(0.2))\n",
        "model.add(Dense(20, activation='relu'))\n",
        "model.add(Dense(y.shape[1]))"
      ],
      "execution_count": null,
      "outputs": []
    },
    {
      "cell_type": "code",
      "metadata": {
        "colab": {
          "base_uri": "https://localhost:8080/"
        },
        "id": "pkWMSVNuglfY",
        "outputId": "bf0cb68e-cdaa-4abe-8a69-8ed76d7ad4ed"
      },
      "source": [
        "model.compile(optimizer='adam', loss='mse')\n",
        "model.summary()\n",
        "h = model.fit(X, y, epochs=64, batch_size=16, validation_split=0.1, verbose=0)"
      ],
      "execution_count": null,
      "outputs": [
        {
          "output_type": "stream",
          "text": [
            "Model: \"sequential_2\"\n",
            "_________________________________________________________________\n",
            "Layer (type)                 Output Shape              Param #   \n",
            "=================================================================\n",
            "lstm_4 (LSTM)                (None, 6, 64)             18176     \n",
            "_________________________________________________________________\n",
            "lstm_5 (LSTM)                (None, 32)                12416     \n",
            "_________________________________________________________________\n",
            "dropout_2 (Dropout)          (None, 32)                0         \n",
            "_________________________________________________________________\n",
            "dense_4 (Dense)              (None, 20)                660       \n",
            "_________________________________________________________________\n",
            "dense_5 (Dense)              (None, 1)                 21        \n",
            "=================================================================\n",
            "Total params: 31,273\n",
            "Trainable params: 31,273\n",
            "Non-trainable params: 0\n",
            "_________________________________________________________________\n"
          ],
          "name": "stdout"
        }
      ]
    },
    {
      "cell_type": "code",
      "metadata": {
        "colab": {
          "base_uri": "https://localhost:8080/",
          "height": 282
        },
        "id": "KYUHBByPiEJg",
        "outputId": "31557a7b-4665-4f00-837f-a243bdaf94d1"
      },
      "source": [
        "plt.plot(h.history['loss'], label='Train loss')\n",
        "plt.plot(h.history['val_loss'], label='Validation loss')\n",
        "plt.legend()"
      ],
      "execution_count": null,
      "outputs": [
        {
          "output_type": "execute_result",
          "data": {
            "text/plain": [
              "<matplotlib.legend.Legend at 0x7f9a7341a950>"
            ]
          },
          "metadata": {
            "tags": []
          },
          "execution_count": 16
        },
        {
          "output_type": "display_data",
          "data": {
            "image/png": "[encoded data removed]",
            "text/plain": [
              "<Figure size 432x288 with 1 Axes>"
            ]
          },
          "metadata": {
            "tags": [],
            "needs_background": "light"
          }
        }
      ]
    },
    {
      "cell_type": "code",
      "metadata": {
        "colab": {
          "base_uri": "https://localhost:8080/",
          "height": 282
        },
        "id": "SxyUL5POmItZ",
        "outputId": "72f418c3-8ea6-4789-9232-b89689bab74b"
      },
      "source": [
        "forcast = model.predict(X)\n",
        "plt.plot(forcast, label='Forcast')\n",
        "plt.plot(y, label='Real')\n",
        "plt.legend()"
      ],
      "execution_count": null,
      "outputs": [
        {
          "output_type": "execute_result",
          "data": {
            "text/plain": [
              "<matplotlib.legend.Legend at 0x7f9a730b42d0>"
            ]
          },
          "metadata": {
            "tags": []
          },
          "execution_count": 17
        },
        {
          "output_type": "display_data",
          "data": {
            "image/png": "[encoded data removed]",
            "text/plain": [
              "<Figure size 432x288 with 1 Axes>"
            ]
          },
          "metadata": {
            "tags": [],
            "needs_background": "light"
          }
        }
      ]
    },
    {
      "cell_type": "markdown",
      "metadata": {
        "id": "qC83u5aE5S4g"
      },
      "source": [
        "# Predict"
      ]
    },
    {
      "cell_type": "code",
      "metadata": {
        "colab": {
          "base_uri": "https://localhost:8080/",
          "height": 282
        },
        "id": "ICoqx75n5XMO",
        "outputId": "5b87c47d-ce03-40bb-e5c9-7370f92e261f"
      },
      "source": [
        "Xpred = []\n",
        "\n",
        "for i in range (n_steps, len(df_test_scaled) - n_future + 1):\n",
        "  Xpred.append(df_test_scaled[i - n_steps:i])\n",
        "\n",
        "Xpred = array(Xpred)\n",
        "pred = model.predict(Xpred)\n",
        "\n",
        "plt.plot(df_test_scaled[n_steps:, 0], label='Real')\n",
        "plt.plot(pred, label='Predict')\n",
        "plt.legend()"
      ],
      "execution_count": null,
      "outputs": [
        {
          "output_type": "execute_result",
          "data": {
            "text/plain": [
              "<matplotlib.legend.Legend at 0x7f9a73384fd0>"
            ]
          },
          "metadata": {
            "tags": []
          },
          "execution_count": 18
        },
        {
          "output_type": "display_data",
          "data": {
            "image/png": "[encoded data removed]",
            "text/plain": [
              "<Figure size 432x288 with 1 Axes>"
            ]
          },
          "metadata": {
            "tags": [],
            "needs_background": "light"
          }
        }
      ]
    }
  ]
}