{
  "nbformat": 4,
  "nbformat_minor": 0,
  "metadata": {
    "colab": {
      "name": "MLPClassifier .ipynb",
      "provenance": [],
      "collapsed_sections": []
    },
    "kernelspec": {
      "name": "python3",
      "display_name": "Python 3"
    },
    "language_info": {
      "name": "python"
    }
  },
  "cells": [
    {
      "cell_type": "code",
      "metadata": {
        "id": "qU5yee24Ze5L"
      },
      "source": [
        "from sklearn.neural_network import MLPClassifier \n",
        "import pandas as pd\n",
        "from sklearn.model_selection import train_test_split \n",
        "from sklearn.preprocessing import StandardScaler  \n",
        "from sklearn import preprocessing\n",
        "from sklearn.preprocessing import LabelEncoder\n",
        "from sklearn.metrics import classification_report, confusion_matrix, accuracy_score\n",
        "\n",
        "\n",
        "df = pd.read_csv('/content/drive/MyDrive/DataSets/All_Infogain.csv')\n",
        "df = df.values\n",
        "X = df[:,:-1]\n",
        "y = df[:, -1]\n",
        "y = pd.DataFrame(LabelEncoder().fit_transform(y))"
      ],
      "execution_count": null,
      "outputs": []
    },
    {
      "cell_type": "code",
      "metadata": {
        "id": "wrGHpMWJWcCE"
      },
      "source": [
        "X_train, X_test, y_train, y_test = train_test_split(X, y, test_size = 0.3, random_state = 1)\n",
        "\n",
        "#scaler = StandardScaler()\n",
        "#X_train = scaler.fit_transform(X_train)  \n",
        "#X_test = scaler.fit_transform(X_test)"
      ],
      "execution_count": null,
      "outputs": []
    },
    {
      "cell_type": "code",
      "metadata": {
        "id": "47Q7yj9uWdMi",
        "colab": {
          "base_uri": "https://localhost:8080/"
        },
        "outputId": "c69d20a4-e355-40c8-b0b3-9dd54744b41d"
      },
      "source": [
        "mlp = MLPClassifier(hidden_layer_sizes=(25, 100, 100, 50),activation='relu', max_iter=100)  \n",
        "mlp.fit(X_train, y_train.values.ravel())"
      ],
      "execution_count": null,
      "outputs": [
        {
          "output_type": "stream",
          "text": [
            "/usr/local/lib/python3.7/dist-packages/sklearn/neural_network/_multilayer_perceptron.py:571: ConvergenceWarning: Stochastic Optimizer: Maximum iterations (100) reached and the optimization hasn't converged yet.\n",
            "  % self.max_iter, ConvergenceWarning)\n"
          ],
          "name": "stderr"
        },
        {
          "output_type": "execute_result",
          "data": {
            "text/plain": [
              "MLPClassifier(activation='relu', alpha=0.0001, batch_size='auto', beta_1=0.9,\n",
              "              beta_2=0.999, early_stopping=False, epsilon=1e-08,\n",
              "              hidden_layer_sizes=(25, 100, 100, 50), learning_rate='constant',\n",
              "              learning_rate_init=0.001, max_fun=15000, max_iter=100,\n",
              "              momentum=0.9, n_iter_no_change=10, nesterovs_momentum=True,\n",
              "              power_t=0.5, random_state=None, shuffle=True, solver='adam',\n",
              "              tol=0.0001, validation_fraction=0.1, verbose=False,\n",
              "              warm_start=False)"
            ]
          },
          "metadata": {
            "tags": []
          },
          "execution_count": 3
        }
      ]
    },
    {
      "cell_type": "code",
      "metadata": {
        "id": "vZEn8kb_ZGeY",
        "colab": {
          "base_uri": "https://localhost:8080/"
        },
        "outputId": "e4a80765-a71c-4b73-d8fd-c24242d6d1d0"
      },
      "source": [
        "pred = mlp.predict(X_test) \n",
        "print('>%.3f' % accuracy_score(y_test, pred))\n",
        "print(confusion_matrix(y_test,pred))  \n",
        "print(classification_report(y_test,pred))"
      ],
      "execution_count": null,
      "outputs": [
        {
          "output_type": "stream",
          "text": [
            ">0.866\n",
            "[[2056   54   29  187   11]\n",
            " [  24 2160   41   70   14]\n",
            " [  26  206 1622  178   12]\n",
            " [ 101  185   88 1816   29]\n",
            " [  52   31   35   93 1806]]\n",
            "              precision    recall  f1-score   support\n",
            "\n",
            "           0       0.91      0.88      0.89      2337\n",
            "           1       0.82      0.94      0.87      2309\n",
            "           2       0.89      0.79      0.84      2044\n",
            "           3       0.77      0.82      0.80      2219\n",
            "           4       0.96      0.90      0.93      2017\n",
            "\n",
            "    accuracy                           0.87     10926\n",
            "   macro avg       0.87      0.86      0.87     10926\n",
            "weighted avg       0.87      0.87      0.87     10926\n",
            "\n"
          ],
          "name": "stdout"
        }
      ]
    }
  ]
}