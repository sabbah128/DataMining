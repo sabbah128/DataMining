{
  "nbformat": 4,
  "nbformat_minor": 0,
  "metadata": {
    "colab": {
      "name": "Ada_RF_Xg",
      "provenance": [],
      "collapsed_sections": []
    },
    "kernelspec": {
      "name": "python3",
      "display_name": "Python 3"
    },
    "language_info": {
      "name": "python"
    }
  },
  "cells": [
    {
      "cell_type": "code",
      "metadata": {
        "colab": {
          "base_uri": "https://localhost:8080/"
        },
        "id": "FMh8q44whLP7",
        "outputId": "e255175b-41d1-46e4-f286-085857486524"
      },
      "source": [
        "from numpy import mean, std\n",
        "import pandas as pd\n",
        "from sklearn.ensemble import AdaBoostClassifier, RandomForestClassifier\n",
        "from sklearn.model_selection import RepeatedStratifiedKFold, cross_val_score\n",
        "from xgboost import XGBClassifier\n",
        "from sklearn.preprocessing import LabelEncoder\n",
        "from sklearn.preprocessing import StandardScaler\n",
        "\n",
        "\n",
        "df = pd.read_csv('/content/drive/MyDrive/DataSets/All_Infogain.csv')\n",
        "X = df.iloc[:, :-1]\n",
        "y = df.iloc[:, -1]\n",
        "\n",
        "y = pd.DataFrame(LabelEncoder().fit_transform(y))\n",
        "\n",
        "scaler = StandardScaler()\n",
        "X = scaler.fit_transform(X)  \n",
        "\n",
        "cv = RepeatedStratifiedKFold(n_splits=10, n_repeats=3, random_state=1)\n",
        "\n",
        "Ada = AdaBoostClassifier(n_estimators=100)\n",
        "n_scores = cross_val_score(Ada, X, y, scoring='accuracy', cv=cv, n_jobs=-1)\n",
        "print('Mean Accuracy AdaBoost : %.3f (%.3f)' % (mean(n_scores), std(n_scores)))\n",
        "\n",
        "rf = RandomForestClassifier(n_estimators=100, n_jobs=-1)\n",
        "n_scores_rf = cross_val_score(rf, X, y, scoring='accuracy', cv=cv, n_jobs=-1)\n",
        "print('Mean Accuracy RandomForest : %.3f (%.3f)' % (mean(n_scores_rf), std(n_scores_rf)))\n",
        "\n",
        "xg = XGBClassifier(n_estimators=100, n_jobs=-1)\n",
        "n_scores_xg = cross_val_score(xg, X, y, scoring='accuracy', cv=cv, n_jobs=-1)\n",
        "print('Mean Accuracy XGBoots : %.3f (%.3f)' % (mean(n_scores), std(n_scores)))"
      ],
      "execution_count": null,
      "outputs": [
        {
          "output_type": "stream",
          "text": [
            "Mean Accuracy AdaBoost : 0.676 (0.012)\n",
            "Mean Accuracy RandomForest : 0.962 (0.003)\n",
            "Mean Accuracy XGBoots : 0.676 (0.012)\n"
          ],
          "name": "stdout"
        }
      ]
    },
    {
      "cell_type": "code",
      "metadata": {
        "colab": {
          "base_uri": "https://localhost:8080/"
        },
        "id": "7TnUZ6sw63Z1",
        "outputId": "c87b822a-d84e-427b-b9ea-a9268ec1b2b0"
      },
      "source": [
        "from numpy import mean, std\n",
        "import pandas as pd\n",
        "from sklearn.ensemble import AdaBoostClassifier, RandomForestClassifier\n",
        "from xgboost import XGBClassifier\n",
        "from sklearn.preprocessing import LabelEncoder\n",
        "from sklearn.preprocessing import StandardScaler\n",
        "from sklearn.model_selection import train_test_split \n",
        "from sklearn.metrics import accuracy_score\n",
        "\n",
        "\n",
        "df = pd.read_csv('/content/drive/MyDrive/DataSets/All_Infogain.csv')\n",
        "X = df.iloc[:, :-1]\n",
        "y = df.iloc[:, -1]\n",
        "\n",
        "y = pd.DataFrame(LabelEncoder().fit_transform(y))\n",
        "\n",
        "scaler = StandardScaler()\n",
        "X = scaler.fit_transform(X)  \n",
        "\n",
        "X_train, X_test, y_train, y_test = train_test_split(X, y, test_size = 0.2, random_state = 1)\n",
        "\n",
        "Ada = AdaBoostClassifier(n_estimators=100)\n",
        "Ada.fit(X_train, y_train.values.ravel())\n",
        "y_perd_Ada = Ada.predict(X_test)\n",
        "print('>>> AdaBoost : %.3f' % accuracy_score(y_test, y_perd_Ada))\n",
        "\n",
        "rf = RandomForestClassifier(n_estimators=100, n_jobs=-1)\n",
        "rf.fit(X_train, y_train.values.ravel())\n",
        "y_perd_rf = rf.predict(X_test)\n",
        "print('>>> RandomForest %.3f' % accuracy_score(y_test, y_perd_rf))\n",
        "\n",
        "xg = XGBClassifier(n_estimators=100, n_jobs=-1)\n",
        "xg.fit(X_train, y_train.values.ravel())\n",
        "y_perd_xg = xg.predict(X_test)\n",
        "print('>>> XGBoost : %.3f' % accuracy_score(y_test, y_perd_xg))"
      ],
      "execution_count": null,
      "outputs": [
        {
          "output_type": "stream",
          "text": [
            ">>> AdaBoost : 0.678\n",
            ">>> RandomForest 0.959\n",
            ">>> XGBoost : 0.851\n"
          ],
          "name": "stdout"
        }
      ]
    }
  ]
}