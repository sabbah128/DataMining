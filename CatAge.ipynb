{
  "nbformat": 4,
  "nbformat_minor": 0,
  "metadata": {
    "colab": {
      "name": "CatAge.ipynb",
      "provenance": [],
      "collapsed_sections": []
    },
    "kernelspec": {
      "name": "python3",
      "display_name": "Python 3"
    },
    "language_info": {
      "name": "python"
    }
  },
  "cells": [
    {
      "cell_type": "markdown",
      "metadata": {
        "id": "D9T1LjRxaGuX"
      },
      "source": [
        " # گسسته سازی داده ها برای رگرسیون لجستیک\n",
        " # H.KianAra"
      ]
    },
    {
      "cell_type": "code",
      "metadata": {
        "colab": {
          "base_uri": "https://localhost:8080/",
          "height": 128
        },
        "id": "_fLanNHrM2cd",
        "outputId": "92106594-5ed9-489a-ec71-9a6aea281507"
      },
      "source": [
        "import pandas as pd\n",
        "import seaborn as sns\n",
        "import numpy as np\n",
        "import matplotlib.pyplot as plt\n",
        "from google.colab import drive\n",
        "\n",
        "\n",
        "drive.mount('/content/drive')\n",
        "\n",
        "df = pd.read_csv('/content/drive/MyDrive/DataSets/bank-full.csv', delimiter=';')\n",
        "\n",
        "df.y = df.y.replace({'yes':1, 'no': 0})\n",
        "\n",
        "conditions = [df['age'] <20, \n",
        "              (df['age']>=20) & (df['age']<30), \n",
        "              (df['age']>=30) & (df['age']<40),\n",
        "              (df['age']>=40) & (df['age']<50),\n",
        "              (df['age']>=50) & (df['age']<60),\n",
        "              (df['age']>=60) & (df['age']<70),\n",
        "              (df['age']>=70) & (df['age']<80),\n",
        "              df['age']>=80]\n",
        "agebins = [1, 2, 3, 4, 5, 6, 7, 8]\n",
        "df['age'] = np.select(conditions, agebins)\n",
        "\n",
        "jobary = df['job'].unique()\n",
        "num = 1\n",
        "for i in jobary:\n",
        "  df.job = df.job.replace({i : num})\n",
        "  num += 1\n",
        "\n",
        "df.marital = df.marital.replace({'married' : 1, 'single' : 0, 'divorced' : 2})\n",
        "\n",
        "eduary = df['education'].unique()\n",
        "num = 1\n",
        "for i in eduary:\n",
        "  df.education = df.education.replace({i : num})\n",
        "  num += 1\n",
        "\n",
        "df.default = df.default.replace({'yes':1, 'no': 0})\n",
        "df.housing = df.housing.replace({'yes':1, 'no': 0})\n",
        "df.loan = df.loan.replace({'yes':1, 'no': 0})\n",
        "df.contact = df.contact.replace({'cellular': 2, 'unknown': 1, 'telephone': 0})\n",
        "\n",
        "month_conditions = [df['month'] == 'jan', df['month'] == 'feb',\n",
        "                    df['month'] == 'mar', df['month'] == 'apr',\n",
        "                    df['month'] == 'may', df['month'] == 'jun',\n",
        "                    df['month'] == 'jul', df['month'] == 'aug',\n",
        "                    df['month'] == 'sep', df['month'] == 'oct',\n",
        "                    df['month'] == 'nov', df['month'] == 'dec']\n",
        "\n",
        "month_bins = [1, 2, 3, 4, 5, 6, 7, 8, 9, 10, 11, 12]\n",
        "df['month'] = np.select(month_conditions, month_bins)\n",
        "\n",
        "poutcome = df['poutcome'].unique()\n",
        "num = 1\n",
        "for i in poutcome:\n",
        "  df.poutcome = df.poutcome.replace({i : num})\n",
        "  num += 1\n",
        "\n",
        "\n",
        "df.head(2)"
      ],
      "execution_count": null,
      "outputs": [
        {
          "output_type": "stream",
          "text": [
            "Drive already mounted at /content/drive; to attempt to forcibly remount, call drive.mount(\"/content/drive\", force_remount=True).\n"
          ],
          "name": "stdout"
        },
        {
          "output_type": "execute_result",
          "data": {
            "text/html": [
              "<div>\n",
              "<style scoped>\n",
              "    .dataframe tbody tr th:only-of-type {\n",
              "        vertical-align: middle;\n",
              "    }\n",
              "\n",
              "    .dataframe tbody tr th {\n",
              "        vertical-align: top;\n",
              "    }\n",
              "\n",
              "    .dataframe thead th {\n",
              "        text-align: right;\n",
              "    }\n",
              "</style>\n",
              "<table border=\"1\" class=\"dataframe\">\n",
              "  <thead>\n",
              "    <tr style=\"text-align: right;\">\n",
              "      <th></th>\n",
              "      <th>age</th>\n",
              "      <th>job</th>\n",
              "      <th>marital</th>\n",
              "      <th>education</th>\n",
              "      <th>default</th>\n",
              "      <th>balance</th>\n",
              "      <th>housing</th>\n",
              "      <th>loan</th>\n",
              "      <th>contact</th>\n",
              "      <th>day</th>\n",
              "      <th>month</th>\n",
              "      <th>duration</th>\n",
              "      <th>campaign</th>\n",
              "      <th>pdays</th>\n",
              "      <th>previous</th>\n",
              "      <th>poutcome</th>\n",
              "      <th>y</th>\n",
              "    </tr>\n",
              "  </thead>\n",
              "  <tbody>\n",
              "    <tr>\n",
              "      <th>0</th>\n",
              "      <td>5</td>\n",
              "      <td>1</td>\n",
              "      <td>1</td>\n",
              "      <td>1</td>\n",
              "      <td>0</td>\n",
              "      <td>2143</td>\n",
              "      <td>1</td>\n",
              "      <td>0</td>\n",
              "      <td>1</td>\n",
              "      <td>5</td>\n",
              "      <td>5</td>\n",
              "      <td>261</td>\n",
              "      <td>1</td>\n",
              "      <td>-1</td>\n",
              "      <td>0</td>\n",
              "      <td>1</td>\n",
              "      <td>0</td>\n",
              "    </tr>\n",
              "    <tr>\n",
              "      <th>1</th>\n",
              "      <td>4</td>\n",
              "      <td>2</td>\n",
              "      <td>0</td>\n",
              "      <td>2</td>\n",
              "      <td>0</td>\n",
              "      <td>29</td>\n",
              "      <td>1</td>\n",
              "      <td>0</td>\n",
              "      <td>1</td>\n",
              "      <td>5</td>\n",
              "      <td>5</td>\n",
              "      <td>151</td>\n",
              "      <td>1</td>\n",
              "      <td>-1</td>\n",
              "      <td>0</td>\n",
              "      <td>1</td>\n",
              "      <td>0</td>\n",
              "    </tr>\n",
              "  </tbody>\n",
              "</table>\n",
              "</div>"
            ],
            "text/plain": [
              "   age  job  marital  education  ...  pdays  previous  poutcome  y\n",
              "0    5    1        1          1  ...     -1         0         1  0\n",
              "1    4    2        0          2  ...     -1         0         1  0\n",
              "\n",
              "[2 rows x 17 columns]"
            ]
          },
          "metadata": {
            "tags": []
          },
          "execution_count": 1
        }
      ]
    },
    {
      "cell_type": "code",
      "metadata": {
        "colab": {
          "base_uri": "https://localhost:8080/",
          "height": 282
        },
        "id": "G5DZBpaEOOb-",
        "outputId": "5436d7c4-cdf1-43e3-e1e6-521e837864d4"
      },
      "source": [
        "df['age'].hist(bins=8)"
      ],
      "execution_count": null,
      "outputs": [
        {
          "output_type": "execute_result",
          "data": {
            "text/plain": [
              "<matplotlib.axes._subplots.AxesSubplot at 0x7fef945ed710>"
            ]
          },
          "metadata": {
            "tags": []
          },
          "execution_count": 2
        },
        {
          "output_type": "display_data",
          "data": {
            "image/png": "[encoded data removed]",
            "text/plain": [
              "<Figure size 432x288 with 1 Axes>"
            ]
          },
          "metadata": {
            "tags": [],
            "needs_background": "light"
          }
        }
      ]
    },
    {
      "cell_type": "code",
      "metadata": {
        "colab": {
          "base_uri": "https://localhost:8080/",
          "height": 364
        },
        "id": "3GoI7RbPCVk7",
        "outputId": "33309dda-fcc0-4ac3-ef3e-e58d3af4ed3e"
      },
      "source": [
        "print(df['y'].value_counts(), '\\n')\n",
        "sns.countplot(x = 'y', data=df, palette='hls')"
      ],
      "execution_count": null,
      "outputs": [
        {
          "output_type": "stream",
          "text": [
            "0    39922\n",
            "1     5289\n",
            "Name: y, dtype: int64 \n",
            "\n"
          ],
          "name": "stdout"
        },
        {
          "output_type": "execute_result",
          "data": {
            "text/plain": [
              "<matplotlib.axes._subplots.AxesSubplot at 0x7fef9454d3d0>"
            ]
          },
          "metadata": {
            "tags": []
          },
          "execution_count": 3
        },
        {
          "output_type": "display_data",
          "data": {
            "image/png": "[encoded data removed]",
            "text/plain": [
              "<Figure size 432x288 with 1 Axes>"
            ]
          },
          "metadata": {
            "tags": [],
            "needs_background": "light"
          }
        }
      ]
    },
    {
      "cell_type": "code",
      "metadata": {
        "colab": {
          "base_uri": "https://localhost:8080/",
          "height": 378
        },
        "id": "W5CcTLQpvrId",
        "outputId": "4857b8fa-7e58-4b64-fd39-036933e20079"
      },
      "source": [
        "from sklearn.model_selection import train_test_split\n",
        "from sklearn import preprocessing\n",
        "from sklearn.decomposition import PCA\n",
        "from sklearn.linear_model import LogisticRegression\n",
        "from sklearn.metrics import classification_report, confusion_matrix\n",
        "from imblearn.over_sampling import SMOTE\n",
        "from sklearn import tree\n",
        "from sklearn.ensemble import RandomForestClassifier\n",
        "from sklearn.svm import SVC\n",
        "from sklearn.naive_bayes import GaussianNB\n",
        "\n",
        "\n",
        "x = df.loc[:, df.columns != 'y']\n",
        "y = df.iloc[:, -1]\n",
        "\n",
        "overSampling = SMOTE()\n",
        "over_x, over_y = overSampling.fit_sample(x, y)\n",
        "\n",
        "X_scaled = preprocessing.StandardScaler().fit_transform(over_x)\n",
        "\n",
        "\"\"\"\n",
        "rf = RandomForestClassifier().fit(X_scaled, over_y)\n",
        "rffi = rf.feature_importances_\n",
        "sorted = np.argsort(rffi)\n",
        "lbl = x.columns[sorted]\n",
        "plt.barh(range(x.shape[1]), rffi[sorted], tick_label=lbl)\n",
        "plt.title('Random Forest Feature Importances')\n",
        "plt.show()\n",
        "\n",
        "new_df = X_scaled[:,sorted[11:]]\n",
        "\n",
        "\n",
        "pca = PCA(n_components=5)\n",
        "new_df = pca.fit_transform(X_scaled)\n",
        "var_pca = pca.explained_variance_ratio_\n",
        "sum_var = 0\n",
        "for i in var_pca:\n",
        "  sum_var += i\n",
        "print('\\nSave Var info : %.3f' % sum_var)\n",
        "\"\"\"\n",
        "X_train, X_test, y_train, y_test = train_test_split(new_df, over_y, test_size=0.4, random_state=0)\n",
        "\n",
        "\"\"\"\n",
        "Log_model = LogisticRegression().fit(X_train, y_train)\n",
        "y_hat = Log_model.predict(X_test)\n",
        "print('Logestic Accuracy : %.3f\\n' % Log_model.score(X_test, y_test))\n",
        "print('Logestic Confusion Matrix : \\n ', confusion_matrix(y_test, y_hat))\n",
        "print(classification_report(y_test, y_hat))\n",
        "\n",
        "D3_model = tree.DecisionTreeClassifier().fit(X_train, y_train)\n",
        "y_hat = D3_model.predict(X_test)\n",
        "print('Decision Tree Accuracy : %.3f\\n' % Log_model.score(X_test, y_test))\n",
        "print('Decision Tree Confusion Matrix : \\n', confusion_matrix(y_test, y_hat))\n",
        "print(classification_report(y_test, y_hat))\n",
        "\n",
        "svm_model = SVC().fit(X_train, y_train)\n",
        "y_hat = svm_model.predict(X_test)\n",
        "print('SVM Accuracy : %.3f\\n' % svm_model.score(X_test, y_test))\n",
        "print('SVM Confusion Matrix : \\n', confusion_matrix(y_test, y_hat))\n",
        "print(classification_report(y_test, y_hat))\n",
        "\n",
        "nb_model = GaussianNB().fit(X_train, y_train)\n",
        "y_hat = nb_model.predict(X_test)\n",
        "print('Naive Bayes Accuracy : %.3f\\n' % nb_model.score(X_test, y_test))\n",
        "print('Naive Bayes Confusion Matrix : \\n', confusion_matrix(y_test, y_hat))\n",
        "print(classification_report(y_test, y_hat))\n",
        "\"\"\"\n",
        "\n",
        "forest_model = RandomForestClassifier().fit(X_train, y_train)\n",
        "y_pred = forest_model.predict(X_test)\n",
        "print('Random Forest Accuracy : %.3f\\n' % forest_model.score(X_test, y_test))\n",
        "print('Random Forest Confusion Matrix : \\n', confusion_matrix(y_test, y_pred))\n",
        "print(classification_report(y_test, y_pred))\n",
        "\n",
        "\"\"\"\n",
        "from sklearn.ensemble import BaggingClassifier\n",
        "from sklearn.tree import DecisionTreeClassifier\n",
        "\n",
        "bag_clf = BaggingClassifier(DecisionTreeClassifier(), n_estimators=500,\n",
        "                            max_samples=20000, bootstrap=True, n_jobs=-1)\n",
        "bag_clf.fit(X_train, y_train)\n",
        "y_pred_Bagging = bag_clf.predict(X_test)\n",
        "print('Bagging Accuracy : %.3f\\n' % bag_clf.score(X_test, y_test))\n",
        "print('Bagging Confusion Matrix : \\n', confusion_matrix(y_test, y_pred_Bagging))\n",
        "print(classification_report(y_test, y_pred_Bagging))\n",
        "\"\"\""
      ],
      "execution_count": null,
      "outputs": [
        {
          "output_type": "stream",
          "text": [
            "/usr/local/lib/python3.7/dist-packages/sklearn/utils/deprecation.py:87: FutureWarning: Function safe_indexing is deprecated; safe_indexing is deprecated in version 0.22 and will be removed in version 0.24.\n",
            "  warnings.warn(msg, category=FutureWarning)\n"
          ],
          "name": "stderr"
        },
        {
          "output_type": "stream",
          "text": [
            "Random Forest Accuracy : 0.880\n",
            "\n",
            "Random Forest Confusion Matrix : \n",
            " [[13439  2400]\n",
            " [ 1438 14661]]\n",
            "              precision    recall  f1-score   support\n",
            "\n",
            "           0       0.90      0.85      0.88     15839\n",
            "           1       0.86      0.91      0.88     16099\n",
            "\n",
            "    accuracy                           0.88     31938\n",
            "   macro avg       0.88      0.88      0.88     31938\n",
            "weighted avg       0.88      0.88      0.88     31938\n",
            "\n"
          ],
          "name": "stdout"
        },
        {
          "output_type": "execute_result",
          "data": {
            "application/vnd.google.colaboratory.intrinsic+json": {
              "type": "string"
            },
            "text/plain": [
              "\"\\nfrom sklearn.ensemble import BaggingClassifier\\nfrom sklearn.tree import DecisionTreeClassifier\\n\\nbag_clf = BaggingClassifier(DecisionTreeClassifier(), n_estimators=500,\\n                            max_samples=20000, bootstrap=True, n_jobs=-1)\\nbag_clf.fit(X_train, y_train)\\ny_pred_Bagging = bag_clf.predict(X_test)\\nprint('Bagging Accuracy : %.3f\\n' % bag_clf.score(X_test, y_test))\\nprint('Bagging Confusion Matrix : \\n', confusion_matrix(y_test, y_pred_Bagging))\\nprint(classification_report(y_test, y_pred_Bagging))\\n\""
            ]
          },
          "metadata": {
            "tags": []
          },
          "execution_count": 20
        }
      ]
    },
    {
      "cell_type": "code",
      "metadata": {
        "colab": {
          "base_uri": "https://localhost:8080/",
          "height": 295
        },
        "id": "oo2ATCh_ETAH",
        "outputId": "c50047b9-9694-4a4d-93e5-2108d6b2ca10"
      },
      "source": [
        "from sklearn.metrics import roc_auc_score\n",
        "from sklearn.metrics import roc_curve\n",
        "\n",
        "RocCurve = roc_auc_score(y_test, y_pred)\n",
        "fpr, tpr, thresholds = roc_curve(y_test, y_pred)\n",
        "plt.figure()\n",
        "plt.plot(fpr, tpr, label='Logistic Regression (area = %0.3f)' % RocCurve)\n",
        "plt.plot([0, 1], [0, 1],'r--')\n",
        "plt.xlim([0.0, 1.0])\n",
        "plt.ylim([0.0, 1.05])\n",
        "plt.xlabel('False Positive Rate')\n",
        "plt.ylabel('True Positive Rate')\n",
        "plt.title('Receiver operating characteristic')\n",
        "plt.legend(loc=\"lower right\")\n",
        "plt.show()"
      ],
      "execution_count": null,
      "outputs": [
        {
          "output_type": "display_data",
          "data": {
            "image/png": "[encoded data removed]",
            "text/plain": [
              "<Figure size 432x288 with 1 Axes>"
            ]
          },
          "metadata": {
            "tags": [],
            "needs_background": "light"
          }
        }
      ]
    }
  ]
}