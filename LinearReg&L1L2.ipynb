{
  "nbformat": 4,
  "nbformat_minor": 0,
  "metadata": {
    "colab": {
      "name": "LinearReg&L1L2.ipynb",
      "provenance": [],
      "collapsed_sections": []
    },
    "kernelspec": {
      "name": "python3",
      "display_name": "Python 3"
    },
    "language_info": {
      "name": "python"
    }
  },
  "cells": [
    {
      "cell_type": "markdown",
      "metadata": {
        "id": "JFXZWDXDPjIp"
      },
      "source": [
        "\n",
        "\n",
        "\n",
        "#تمرین L1 و L2\n",
        "#KianAra"
      ]
    },
    {
      "cell_type": "code",
      "metadata": {
        "colab": {
          "base_uri": "https://localhost:8080/",
          "height": 185
        },
        "id": "ngZh92AYPWm8",
        "outputId": "fd83c638-59d2-4183-a59a-e3e61207e6c1"
      },
      "source": [
        "import pandas as pd\n",
        "\n",
        "mainData = pd.read_csv('/content/weatherHistory.csv')\n",
        "mainData.head(1)"
      ],
      "execution_count": null,
      "outputs": [
        {
          "output_type": "execute_result",
          "data": {
            "text/html": [
              "<div>\n",
              "<style scoped>\n",
              "    .dataframe tbody tr th:only-of-type {\n",
              "        vertical-align: middle;\n",
              "    }\n",
              "\n",
              "    .dataframe tbody tr th {\n",
              "        vertical-align: top;\n",
              "    }\n",
              "\n",
              "    .dataframe thead th {\n",
              "        text-align: right;\n",
              "    }\n",
              "</style>\n",
              "<table border=\"1\" class=\"dataframe\">\n",
              "  <thead>\n",
              "    <tr style=\"text-align: right;\">\n",
              "      <th></th>\n",
              "      <th>Formatted Date</th>\n",
              "      <th>Summary</th>\n",
              "      <th>Precip Type</th>\n",
              "      <th>Temperature (C)</th>\n",
              "      <th>Apparent Temperature (C)</th>\n",
              "      <th>Humidity</th>\n",
              "      <th>Wind Speed (km/h)</th>\n",
              "      <th>Wind Bearing (degrees)</th>\n",
              "      <th>Visibility (km)</th>\n",
              "      <th>Loud Cover</th>\n",
              "      <th>Pressure (millibars)</th>\n",
              "      <th>Daily Summary</th>\n",
              "    </tr>\n",
              "  </thead>\n",
              "  <tbody>\n",
              "    <tr>\n",
              "      <th>0</th>\n",
              "      <td>2006-04-01 00:00:00.000 +0200</td>\n",
              "      <td>Partly Cloudy</td>\n",
              "      <td>rain</td>\n",
              "      <td>9.472222</td>\n",
              "      <td>7.388889</td>\n",
              "      <td>0.89</td>\n",
              "      <td>14.1197</td>\n",
              "      <td>251.0</td>\n",
              "      <td>15.8263</td>\n",
              "      <td>0.0</td>\n",
              "      <td>1015.13</td>\n",
              "      <td>Partly cloudy throughout the day.</td>\n",
              "    </tr>\n",
              "  </tbody>\n",
              "</table>\n",
              "</div>"
            ],
            "text/plain": [
              "                  Formatted Date  ...                      Daily Summary\n",
              "0  2006-04-01 00:00:00.000 +0200  ...  Partly cloudy throughout the day.\n",
              "\n",
              "[1 rows x 12 columns]"
            ]
          },
          "metadata": {
            "tags": []
          },
          "execution_count": 145
        }
      ]
    },
    {
      "cell_type": "code",
      "metadata": {
        "colab": {
          "base_uri": "https://localhost:8080/"
        },
        "id": "4bbIeW6WSyVM",
        "outputId": "47b56275-9bb2-4c96-bf3f-05fc75b311de"
      },
      "source": [
        "print(mainData.shape)\n",
        "mainData.isnull().sum()"
      ],
      "execution_count": null,
      "outputs": [
        {
          "output_type": "stream",
          "text": [
            "(96453, 12)\n"
          ],
          "name": "stdout"
        },
        {
          "output_type": "execute_result",
          "data": {
            "text/plain": [
              "Formatted Date                0\n",
              "Summary                       0\n",
              "Precip Type                 517\n",
              "Temperature (C)               0\n",
              "Apparent Temperature (C)      0\n",
              "Humidity                      0\n",
              "Wind Speed (km/h)             0\n",
              "Wind Bearing (degrees)        0\n",
              "Visibility (km)               0\n",
              "Loud Cover                    0\n",
              "Pressure (millibars)          0\n",
              "Daily Summary                 0\n",
              "dtype: int64"
            ]
          },
          "metadata": {
            "tags": []
          },
          "execution_count": 146
        }
      ]
    },
    {
      "cell_type": "code",
      "metadata": {
        "colab": {
          "base_uri": "https://localhost:8080/"
        },
        "id": "p0jsHwrIWNyT",
        "outputId": "6b0d8789-0af0-4197-8229-4ca4191ff8f5"
      },
      "source": [
        "mainData.fillna(method=\"bfill\" , inplace=True)\n",
        "mainData.isnull().sum()"
      ],
      "execution_count": null,
      "outputs": [
        {
          "output_type": "execute_result",
          "data": {
            "text/plain": [
              "Formatted Date              0\n",
              "Summary                     0\n",
              "Precip Type                 0\n",
              "Temperature (C)             0\n",
              "Apparent Temperature (C)    0\n",
              "Humidity                    0\n",
              "Wind Speed (km/h)           0\n",
              "Wind Bearing (degrees)      0\n",
              "Visibility (km)             0\n",
              "Loud Cover                  0\n",
              "Pressure (millibars)        0\n",
              "Daily Summary               0\n",
              "dtype: int64"
            ]
          },
          "metadata": {
            "tags": []
          },
          "execution_count": 147
        }
      ]
    },
    {
      "cell_type": "code",
      "metadata": {
        "colab": {
          "base_uri": "https://localhost:8080/",
          "height": 406
        },
        "id": "hn5JC1cuWepU",
        "outputId": "5c908faa-58b0-47c9-b52a-c4875219f2fa"
      },
      "source": [
        "import seaborn as sns\n",
        "\n",
        "sns.heatmap(mainData.corr(), vmax=1, square=True)"
      ],
      "execution_count": null,
      "outputs": [
        {
          "output_type": "execute_result",
          "data": {
            "text/plain": [
              "<matplotlib.axes._subplots.AxesSubplot at 0x7f60cb154890>"
            ]
          },
          "metadata": {
            "tags": []
          },
          "execution_count": 148
        },
        {
          "output_type": "display_data",
          "data": {
            "image/png": "[encoded data removed]",
            "text/plain": [
              "<Figure size 432x288 with 2 Axes>"
            ]
          },
          "metadata": {
            "tags": [],
            "needs_background": "light"
          }
        }
      ]
    },
    {
      "cell_type": "code",
      "metadata": {
        "colab": {
          "base_uri": "https://localhost:8080/"
        },
        "id": "INMXnTIhXQiD",
        "outputId": "a6dd2958-2314-4fae-b564-41e2c7af4049"
      },
      "source": [
        "mainData['Summary'].unique()"
      ],
      "execution_count": null,
      "outputs": [
        {
          "output_type": "execute_result",
          "data": {
            "text/plain": [
              "array(['Partly Cloudy', 'Mostly Cloudy', 'Overcast', 'Foggy',\n",
              "       'Breezy and Mostly Cloudy', 'Clear', 'Breezy and Partly Cloudy',\n",
              "       'Breezy and Overcast', 'Humid and Mostly Cloudy',\n",
              "       'Humid and Partly Cloudy', 'Windy and Foggy', 'Windy and Overcast',\n",
              "       'Breezy and Foggy', 'Windy and Partly Cloudy', 'Breezy',\n",
              "       'Dry and Partly Cloudy', 'Windy and Mostly Cloudy',\n",
              "       'Dangerously Windy and Partly Cloudy', 'Dry', 'Windy',\n",
              "       'Humid and Overcast', 'Light Rain', 'Drizzle', 'Windy and Dry',\n",
              "       'Dry and Mostly Cloudy', 'Breezy and Dry', 'Rain'], dtype=object)"
            ]
          },
          "metadata": {
            "tags": []
          },
          "execution_count": 149
        }
      ]
    },
    {
      "cell_type": "code",
      "metadata": {
        "colab": {
          "base_uri": "https://localhost:8080/"
        },
        "id": "-7OC82Q6YIsI",
        "outputId": "bc9b609b-0255-4212-965d-ade93418ead4"
      },
      "source": [
        "mainData['Summary'].value_counts()"
      ],
      "execution_count": null,
      "outputs": [
        {
          "output_type": "execute_result",
          "data": {
            "text/plain": [
              "Partly Cloudy                          31733\n",
              "Mostly Cloudy                          28094\n",
              "Overcast                               16597\n",
              "Clear                                  10890\n",
              "Foggy                                   7148\n",
              "Breezy and Overcast                      528\n",
              "Breezy and Mostly Cloudy                 516\n",
              "Breezy and Partly Cloudy                 386\n",
              "Dry and Partly Cloudy                     86\n",
              "Windy and Partly Cloudy                   67\n",
              "Light Rain                                63\n",
              "Breezy                                    54\n",
              "Windy and Overcast                        45\n",
              "Humid and Mostly Cloudy                   40\n",
              "Drizzle                                   39\n",
              "Windy and Mostly Cloudy                   35\n",
              "Breezy and Foggy                          35\n",
              "Dry                                       34\n",
              "Humid and Partly Cloudy                   17\n",
              "Dry and Mostly Cloudy                     14\n",
              "Rain                                      10\n",
              "Windy                                      8\n",
              "Humid and Overcast                         7\n",
              "Windy and Foggy                            4\n",
              "Windy and Dry                              1\n",
              "Breezy and Dry                             1\n",
              "Dangerously Windy and Partly Cloudy        1\n",
              "Name: Summary, dtype: int64"
            ]
          },
          "metadata": {
            "tags": []
          },
          "execution_count": 150
        }
      ]
    },
    {
      "cell_type": "code",
      "metadata": {
        "colab": {
          "base_uri": "https://localhost:8080/"
        },
        "id": "LD4KoBY5X5wx",
        "outputId": "93ce9fed-9ce3-4cf4-d46d-8e1c74967b10"
      },
      "source": [
        "from sklearn.preprocessing import LabelEncoder\n",
        "\n",
        "le = LabelEncoder()\n",
        "mainData['Summary'] = le.fit_transform(mainData['Summary'])\n",
        "mainData['Summary'].value_counts()"
      ],
      "execution_count": null,
      "outputs": [
        {
          "output_type": "execute_result",
          "data": {
            "text/plain": [
              "19    31733\n",
              "17    28094\n",
              "18    16597\n",
              "6     10890\n",
              "12     7148\n",
              "4       528\n",
              "3       516\n",
              "5       386\n",
              "11       86\n",
              "26       67\n",
              "16       63\n",
              "0        54\n",
              "25       45\n",
              "13       40\n",
              "8        39\n",
              "24       35\n",
              "2        35\n",
              "9        34\n",
              "15       17\n",
              "10       14\n",
              "20       10\n",
              "21        8\n",
              "14        7\n",
              "23        4\n",
              "7         1\n",
              "22        1\n",
              "1         1\n",
              "Name: Summary, dtype: int64"
            ]
          },
          "metadata": {
            "tags": []
          },
          "execution_count": 151
        }
      ]
    },
    {
      "cell_type": "code",
      "metadata": {
        "colab": {
          "base_uri": "https://localhost:8080/",
          "height": 419
        },
        "id": "TxIsw-Y9ZnwA",
        "outputId": "0f845ebe-b058-45d2-96f4-59c7f7be4818"
      },
      "source": [
        "mainData.drop([\"Formatted Date\",\"Summary\",\"Daily Summary\",\n",
        "         \"Precip Type\",\"Loud Cover\",\"Apparent Temperature (C)\"],\n",
        "        axis=1,inplace=True)\n",
        "mainData"
      ],
      "execution_count": null,
      "outputs": [
        {
          "output_type": "execute_result",
          "data": {
            "text/html": [
              "<div>\n",
              "<style scoped>\n",
              "    .dataframe tbody tr th:only-of-type {\n",
              "        vertical-align: middle;\n",
              "    }\n",
              "\n",
              "    .dataframe tbody tr th {\n",
              "        vertical-align: top;\n",
              "    }\n",
              "\n",
              "    .dataframe thead th {\n",
              "        text-align: right;\n",
              "    }\n",
              "</style>\n",
              "<table border=\"1\" class=\"dataframe\">\n",
              "  <thead>\n",
              "    <tr style=\"text-align: right;\">\n",
              "      <th></th>\n",
              "      <th>Temperature (C)</th>\n",
              "      <th>Humidity</th>\n",
              "      <th>Wind Speed (km/h)</th>\n",
              "      <th>Wind Bearing (degrees)</th>\n",
              "      <th>Visibility (km)</th>\n",
              "      <th>Pressure (millibars)</th>\n",
              "    </tr>\n",
              "  </thead>\n",
              "  <tbody>\n",
              "    <tr>\n",
              "      <th>0</th>\n",
              "      <td>9.472222</td>\n",
              "      <td>0.89</td>\n",
              "      <td>14.1197</td>\n",
              "      <td>251.0</td>\n",
              "      <td>15.8263</td>\n",
              "      <td>1015.13</td>\n",
              "    </tr>\n",
              "    <tr>\n",
              "      <th>1</th>\n",
              "      <td>9.355556</td>\n",
              "      <td>0.86</td>\n",
              "      <td>14.2646</td>\n",
              "      <td>259.0</td>\n",
              "      <td>15.8263</td>\n",
              "      <td>1015.63</td>\n",
              "    </tr>\n",
              "    <tr>\n",
              "      <th>2</th>\n",
              "      <td>9.377778</td>\n",
              "      <td>0.89</td>\n",
              "      <td>3.9284</td>\n",
              "      <td>204.0</td>\n",
              "      <td>14.9569</td>\n",
              "      <td>1015.94</td>\n",
              "    </tr>\n",
              "    <tr>\n",
              "      <th>3</th>\n",
              "      <td>8.288889</td>\n",
              "      <td>0.83</td>\n",
              "      <td>14.1036</td>\n",
              "      <td>269.0</td>\n",
              "      <td>15.8263</td>\n",
              "      <td>1016.41</td>\n",
              "    </tr>\n",
              "    <tr>\n",
              "      <th>4</th>\n",
              "      <td>8.755556</td>\n",
              "      <td>0.83</td>\n",
              "      <td>11.0446</td>\n",
              "      <td>259.0</td>\n",
              "      <td>15.8263</td>\n",
              "      <td>1016.51</td>\n",
              "    </tr>\n",
              "    <tr>\n",
              "      <th>...</th>\n",
              "      <td>...</td>\n",
              "      <td>...</td>\n",
              "      <td>...</td>\n",
              "      <td>...</td>\n",
              "      <td>...</td>\n",
              "      <td>...</td>\n",
              "    </tr>\n",
              "    <tr>\n",
              "      <th>96448</th>\n",
              "      <td>26.016667</td>\n",
              "      <td>0.43</td>\n",
              "      <td>10.9963</td>\n",
              "      <td>31.0</td>\n",
              "      <td>16.1000</td>\n",
              "      <td>1014.36</td>\n",
              "    </tr>\n",
              "    <tr>\n",
              "      <th>96449</th>\n",
              "      <td>24.583333</td>\n",
              "      <td>0.48</td>\n",
              "      <td>10.0947</td>\n",
              "      <td>20.0</td>\n",
              "      <td>15.5526</td>\n",
              "      <td>1015.16</td>\n",
              "    </tr>\n",
              "    <tr>\n",
              "      <th>96450</th>\n",
              "      <td>22.038889</td>\n",
              "      <td>0.56</td>\n",
              "      <td>8.9838</td>\n",
              "      <td>30.0</td>\n",
              "      <td>16.1000</td>\n",
              "      <td>1015.66</td>\n",
              "    </tr>\n",
              "    <tr>\n",
              "      <th>96451</th>\n",
              "      <td>21.522222</td>\n",
              "      <td>0.60</td>\n",
              "      <td>10.5294</td>\n",
              "      <td>20.0</td>\n",
              "      <td>16.1000</td>\n",
              "      <td>1015.95</td>\n",
              "    </tr>\n",
              "    <tr>\n",
              "      <th>96452</th>\n",
              "      <td>20.438889</td>\n",
              "      <td>0.61</td>\n",
              "      <td>5.8765</td>\n",
              "      <td>39.0</td>\n",
              "      <td>15.5204</td>\n",
              "      <td>1016.16</td>\n",
              "    </tr>\n",
              "  </tbody>\n",
              "</table>\n",
              "<p>96453 rows × 6 columns</p>\n",
              "</div>"
            ],
            "text/plain": [
              "       Temperature (C)  Humidity  ...  Visibility (km)  Pressure (millibars)\n",
              "0             9.472222      0.89  ...          15.8263               1015.13\n",
              "1             9.355556      0.86  ...          15.8263               1015.63\n",
              "2             9.377778      0.89  ...          14.9569               1015.94\n",
              "3             8.288889      0.83  ...          15.8263               1016.41\n",
              "4             8.755556      0.83  ...          15.8263               1016.51\n",
              "...                ...       ...  ...              ...                   ...\n",
              "96448        26.016667      0.43  ...          16.1000               1014.36\n",
              "96449        24.583333      0.48  ...          15.5526               1015.16\n",
              "96450        22.038889      0.56  ...          16.1000               1015.66\n",
              "96451        21.522222      0.60  ...          16.1000               1015.95\n",
              "96452        20.438889      0.61  ...          15.5204               1016.16\n",
              "\n",
              "[96453 rows x 6 columns]"
            ]
          },
          "metadata": {
            "tags": []
          },
          "execution_count": 152
        }
      ]
    },
    {
      "cell_type": "code",
      "metadata": {
        "id": "QgL550HZbpnh"
      },
      "source": [
        "X = mainData.loc[:, mainData.columns != 'Temperature (C)']\n",
        "y = mainData.loc[:, mainData.columns == 'Temperature (C)']"
      ],
      "execution_count": null,
      "outputs": []
    },
    {
      "cell_type": "code",
      "metadata": {
        "id": "3uDnPUCcb59v"
      },
      "source": [
        "from sklearn.preprocessing import StandardScaler\n",
        "from sklearn.model_selection import train_test_split\n",
        "from sklearn.decomposition import TruncatedSVD, PCA\n",
        "\n",
        "sc = StandardScaler().fit_transform(X)\n",
        "X = pd.DataFrame(sc)\n",
        "\n",
        "#X = TruncatedSVD(n_components=4).fit_transform(X)\n",
        "#X = PCA(n_components=4).fit_transform(X)\n",
        "\n",
        "X_train, X_test, y_train, y_test = train_test_split(X, y, test_size=0.3,random_state=1)"
      ],
      "execution_count": null,
      "outputs": []
    },
    {
      "cell_type": "code",
      "metadata": {
        "colab": {
          "base_uri": "https://localhost:8080/"
        },
        "id": "_NjWtwUJcen_",
        "outputId": "8c92bce1-50f2-4d1c-c95f-bb9a008c49cb"
      },
      "source": [
        "from sklearn.linear_model import LinearRegression, Ridge, Lasso\n",
        "import matplotlib.pyplot as plt\n",
        "import numpy as np\n",
        "\n",
        "linear_model = LinearRegression().fit(X_train, y_train)\n",
        "print('Linear Regression : %.3f' % linear_model.score(X_test, y_test))\n",
        "\n",
        "lasso_model001 = Lasso(alpha=0.001).fit(X_train,y_train)\n",
        "print('\\nLasso Regression (0.001) : %.3f' % lasso_model001.score(X_test, y_test))\n",
        "lasso_model1 = Lasso(alpha=1).fit(X_train,y_train)\n",
        "print('Lasso Regression (1) : %.3f' % lasso_model1.score(X_test, y_test))\n",
        "ridge_model001 = Ridge(alpha=0.0001).fit(X_train,y_train)\n",
        "print('\\nRidge Regression (0.001) : %.3f' % ridge_model001.score(X_test, y_test))\n",
        "ridge_model1 = Ridge(alpha=1).fit(X_train,y_train)\n",
        "print('Ridge Regression (1) : %.3f' % ridge_model1.score(X_test, y_test))"
      ],
      "execution_count": null,
      "outputs": [
        {
          "output_type": "stream",
          "text": [
            "Linear Regression : 0.457\n",
            "\n",
            "Lasso Regression (0.001) : 0.457\n",
            "Lasso Regression (1) : 0.418\n",
            "\n",
            "Ridge Regression (0.001) : 0.457\n",
            "Ridge Regression (1) : 0.457\n"
          ],
          "name": "stdout"
        }
      ]
    },
    {
      "cell_type": "code",
      "metadata": {
        "colab": {
          "base_uri": "https://localhost:8080/",
          "height": 283
        },
        "id": "ypg4LtH-hD2h",
        "outputId": "841922e7-314e-49c5-f7e1-014133f41856"
      },
      "source": [
        "import matplotlib.pyplot as plt\n",
        "\n",
        "#plt.plot(linear_model.coef_, linestyle= 'none', marker= 'h', markersize=5, color='cyan', label='Linear Reg')\n",
        "plt.plot(lasso_model001.coef_, linestyle= 'none', marker= '*', markersize=6, color='red', label='Lasso $ a=0.001')\n",
        "plt.plot(lasso_model1.coef_, linestyle= 'none', marker= 'd', markersize=5, color='blue', label='Lasso $ a=1')\n",
        "#plt.plot(ridge_model001.coef_, linestyle= 'none', marker= 'o', markersize=5, color='green', label='Ridge $ a=0.001')\n",
        "#plt.plot(ridge_model1.coef_, linestyle= 'none', marker= '^', markersize=5, color='gray', label='Ridge $ a=1')\n",
        "\n",
        "plt.xlabel('Coefficient Index', fontsize=12)\n",
        "plt.ylabel('Coefficient Magnitude', fontsize=12)\n",
        "plt.legend(fontsize=11, loc=4)\n",
        "plt.show()"
      ],
      "execution_count": null,
      "outputs": [
        {
          "output_type": "display_data",
          "data": {
            "image/png": "[encoded data removed]",
            "text/plain": [
              "<Figure size 432x288 with 1 Axes>"
            ]
          },
          "metadata": {
            "tags": [],
            "needs_background": "light"
          }
        }
      ]
    }
  ]
}